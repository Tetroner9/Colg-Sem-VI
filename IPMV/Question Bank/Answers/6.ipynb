{
 "cells": [
  {
   "cell_type": "markdown",
   "source": [
    "# Write a Python Program for HPF mask"
   ],
   "metadata": {
    "collapsed": false
   },
   "id": "8b3e25533c0c327b"
  },
  {
   "cell_type": "code",
   "outputs": [],
   "source": [
    "import numpy as np\n",
    "import matplotlib.pyplot as plt\n",
    "import cv2"
   ],
   "metadata": {
    "collapsed": false,
    "ExecuteTime": {
     "end_time": "2024-04-25T13:53:30.961251Z",
     "start_time": "2024-04-25T13:53:30.343941Z"
    }
   },
   "id": "814da3bfc1d1d10c",
   "execution_count": 1
  },
  {
   "cell_type": "code",
   "outputs": [],
   "source": [
    "# Read the image\n",
    "image_path = \"lena_colored.png\"  # Replace with image name\n",
    "image = cv2.imread(image_path, cv2.IMREAD_GRAYSCALE)"
   ],
   "metadata": {
    "collapsed": false,
    "ExecuteTime": {
     "end_time": "2024-04-25T13:53:30.972411Z",
     "start_time": "2024-04-25T13:53:30.962300Z"
    }
   },
   "id": "a0a7504f157f823a",
   "execution_count": 2
  },
  {
   "cell_type": "code",
   "outputs": [],
   "source": [
    "def generate_hpf_mask(size):\n",
    "    # Generate HPF mask\n",
    "    mask = np.ones((size, size), dtype=np.float32) * -1\n",
    "    center = size // 2\n",
    "    mask[center, center] = size * size - 1\n",
    "    return mask\n",
    "\n",
    "def plot_mask(mask):\n",
    "    # Plot the HPF mask\n",
    "    plt.imshow(mask, cmap='gray', interpolation='nearest')\n",
    "    plt.title('HPF Mask')\n",
    "    plt.colorbar()\n",
    "    plt.show()"
   ],
   "metadata": {
    "collapsed": false,
    "ExecuteTime": {
     "end_time": "2024-04-25T13:53:43.819969Z",
     "start_time": "2024-04-25T13:53:43.815465Z"
    }
   },
   "id": "142034265be0f48c",
   "execution_count": 3
  },
  {
   "cell_type": "code",
   "outputs": [
    {
     "data": {
      "text/plain": "<Figure size 640x480 with 2 Axes>",
      "image/png": "[encoded data removed]"
     },
     "metadata": {},
     "output_type": "display_data"
    }
   ],
   "source": [
    "# Define the size of the HPF mask\n",
    "mask_size = 5  # Adjust the size of the mask as needed\n",
    "\n",
    "# Generate HPF mask\n",
    "hpf_mask = generate_hpf_mask(mask_size)\n",
    "\n",
    "# Plot the HPF mask\n",
    "plot_mask(hpf_mask)"
   ],
   "metadata": {
    "collapsed": false,
    "ExecuteTime": {
     "end_time": "2024-04-25T13:53:48.026079Z",
     "start_time": "2024-04-25T13:53:47.758460Z"
    }
   },
   "id": "e625c7455d1c0209",
   "execution_count": 4
  },
  {
   "cell_type": "code",
   "outputs": [],
   "source": [],
   "metadata": {
    "collapsed": false
   },
   "id": "5479840277aabb72"
  }
 ],
 "metadata": {
  "kernelspec": {
   "display_name": "Python 3",
   "language": "python",
   "name": "python3"
  },
  "language_info": {
   "codemirror_mode": {
    "name": "ipython",
    "version": 2
   },
   "file_extension": ".py",
   "mimetype": "text/x-python",
   "name": "python",
   "nbconvert_exporter": "python",
   "pygments_lexer": "ipython2",
   "version": "2.7.6"
  }
 },
 "nbformat": 4,
 "nbformat_minor": 5
}
